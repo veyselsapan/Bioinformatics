{
 "cells": [
  {
   "cell_type": "code",
   "execution_count": 1,
   "id": "f5ab838f-4954-4629-bb6a-4812a1846a5a",
   "metadata": {},
   "outputs": [
    {
     "name": "stdout",
     "output_type": "stream",
     "text": [
      "--2025-01-23 12:52:26--  http://ftp.1000genomes.ebi.ac.uk/vol1/ftp/phase3/20130502.phase3.sequence.index\n",
      "193.62.193.1671000genomes.ebi.ac.uk (ftp.1000genomes.ebi.ac.uk)... \n",
      "connected. to ftp.1000genomes.ebi.ac.uk (ftp.1000genomes.ebi.ac.uk)|193.62.193.167|:80... \n",
      "200 OKequest sent, awaiting response... \n",
      "Length: 67057948 (64M)\n",
      "Saving to: ‘sequence.index’\n",
      "\n",
      "sequence.index      100%[===================>]  63.95M   721KB/s    in 91s     \n",
      "\n",
      "2025-01-23 12:53:58 (717 KB/s) - ‘sequence.index’ saved [67057948/67057948]\n",
      "\n"
     ]
    }
   ],
   "source": [
    "!wget -nd http://ftp.1000genomes.ebi.ac.uk/vol1/ftp/phase3/20130502.phase3.sequence.index -O sequence.index"
   ]
  },
  {
   "cell_type": "code",
   "execution_count": 63,
   "id": "436ff136-e28e-4156-a843-9eef6df0b03c",
   "metadata": {},
   "outputs": [],
   "source": [
    "import os\n",
    "from IPython.display import Image\n",
    "import rpy2.robjects.lib.ggplot2 as ggplot2\n",
    "from rpy2.robjects.functions import SignatureTranslatedFunction\n",
    "import pandas as pd\n",
    "import rpy2.robjects as ro\n",
    "from rpy2.robjects import pandas2ri\n",
    "from rpy2.robjects.conversion import localconverter\n",
    "%load_ext rpy2.ipython"
   ]
  },
  {
   "cell_type": "code",
   "execution_count": 49,
   "id": "35792593-a473-4f06-a6ff-9a9d9f96dc93",
   "metadata": {},
   "outputs": [],
   "source": [
    "read_delim = ro.r('read.delim') # The R language specification allows you to put dots \n",
    "# in the names of objects. Therefore, we have to convert a function name into read_delim.\n",
    "seq_data = read_delim('sequence.index', header=True, stringsAsFactors=False) #In R: seq.data <- read.delim(...)\n"
   ]
  },
  {
   "cell_type": "code",
   "execution_count": 50,
   "id": "e7cdbd74-0bb0-48aa-aa9d-12fd52f76a17",
   "metadata": {},
   "outputs": [
    {
     "name": "stdout",
     "output_type": "stream",
     "text": [
      "This dataframe has 26 columns and 187720 rows\n",
      " [1] \"FASTQ_FILE\"          \"MD5\"                 \"RUN_ID\"             \n",
      " [4] \"STUDY_ID\"            \"STUDY_NAME\"          \"CENTER_NAME\"        \n",
      " [7] \"SUBMISSION_ID\"       \"SUBMISSION_DATE\"     \"SAMPLE_ID\"          \n",
      "[10] \"SAMPLE_NAME\"         \"POPULATION\"          \"EXPERIMENT_ID\"      \n",
      "[13] \"INSTRUMENT_PLATFORM\" \"INSTRUMENT_MODEL\"    \"LIBRARY_NAME\"       \n",
      "[16] \"RUN_NAME\"            \"RUN_BLOCK_NAME\"      \"INSERT_SIZE\"        \n",
      "[19] \"LIBRARY_LAYOUT\"      \"PAIRED_FASTQ\"        \"WITHDRAWN\"          \n",
      "[22] \"WITHDRAWN_DATE\"      \"COMMENT\"             \"READ_COUNT\"         \n",
      "[25] \"BASE_COUNT\"          \"ANALYSIS_GROUP\"     \n",
      "\n"
     ]
    }
   ],
   "source": [
    "print('This dataframe has %d columns and %d rows' %(seq_data.ncol, seq_data.nrow))\n",
    "print(seq_data.colnames)"
   ]
  },
  {
   "cell_type": "code",
   "execution_count": 51,
   "id": "29fa4d23-9524-443a-bc83-6029ce13e149",
   "metadata": {},
   "outputs": [
    {
     "name": "stdout",
     "output_type": "stream",
     "text": [
      "[1] 26\n",
      "\n",
      "26\n",
      "<class 'rpy2.robjects.vectors.IntVector'>\n",
      "<class 'int'>\n"
     ]
    }
   ],
   "source": [
    "my_cols = ro.r.ncol(seq_data)\n",
    "print(my_cols)\n",
    "print(my_cols[0])\n",
    "print(type(my_cols))\n",
    "print(type(my_cols[0]))"
   ]
  },
  {
   "cell_type": "code",
   "execution_count": 52,
   "id": "fe0fb66f-a502-42a5-a239-3995e5240845",
   "metadata": {},
   "outputs": [
    {
     "name": "stdout",
     "output_type": "stream",
     "text": [
      "24\n",
      "Type of read count before as.integer: character\n",
      "Type of read count after as.integer: integer\n"
     ]
    }
   ],
   "source": [
    "as_integer = ro.r('as.integer')\n",
    "match = ro.r.match\n",
    "my_col = match('READ_COUNT', seq_data.colnames)[0] # vector returned\n",
    "print(my_col)\n",
    "print('Type of read count before as.integer: %s' % seq_data[my_col - 1].rclass[0])\n",
    "seq_data[my_col - 1] = as_integer(seq_data[my_col - 1])\n",
    "print('Type of read count after as.integer: %s' % seq_data[my_col - 1].rclass[0])"
   ]
  },
  {
   "cell_type": "markdown",
   "id": "d81d3fac-d4d6-4574-9242-1e61011c08fa",
   "metadata": {},
   "source": [
    "The match function is somewhat similar to the index method in Python lists. As expected, it returns a vector so that we can extract the 0 element. It’s also 1-indexed, so we subtract 1 when working on Python."
   ]
  },
  {
   "cell_type": "code",
   "execution_count": 53,
   "id": "0a8419be-23d2-43b6-b81b-94a1583cd344",
   "metadata": {},
   "outputs": [
    {
     "data": {
      "text/html": [
       "\n",
       "        <span>R/rpy2 DataFrame (187720 x 26)</span>\n",
       "        <table>\n",
       "          <thead>\n",
       "            <tr>\n",
       "              \n",
       "              <th>FASTQ_FILE</th>\n",
       "              \n",
       "              <th>MD5</th>\n",
       "              \n",
       "              <th>RUN_ID</th>\n",
       "              \n",
       "              <th>...</th>\n",
       "              \n",
       "              <th>READ_COUNT</th>\n",
       "              \n",
       "              <th>BASE_COUNT</th>\n",
       "              \n",
       "              <th>ANALYSIS_GROUP</th>\n",
       "              \n",
       "            </tr>\n",
       "          </thead>\n",
       "          <tbody>\n",
       "          \n",
       "          <tr>\n",
       "            \n",
       "            <td>\n",
       "              'data/NA1...\n",
       "            </td>\n",
       "            \n",
       "            <td>\n",
       "              '3b092ef1...\n",
       "            </td>\n",
       "            \n",
       "            <td>\n",
       "              'ERR000018'\n",
       "            </td>\n",
       "            \n",
       "            <td>\n",
       "              ...\n",
       "            </td>\n",
       "            \n",
       "            <td>\n",
       "              9280498\n",
       "            </td>\n",
       "            \n",
       "            <td>\n",
       "              '334097928'\n",
       "            </td>\n",
       "            \n",
       "            <td>\n",
       "              'high cov...\n",
       "            </td>\n",
       "            \n",
       "          </tr>\n",
       "          \n",
       "          <tr>\n",
       "            \n",
       "            <td>\n",
       "              'data/NA1...\n",
       "            </td>\n",
       "            \n",
       "            <td>\n",
       "              'fcb89b0a...\n",
       "            </td>\n",
       "            \n",
       "            <td>\n",
       "              'ERR000019'\n",
       "            </td>\n",
       "            \n",
       "            <td>\n",
       "              \n",
       "            </td>\n",
       "            \n",
       "            <td>\n",
       "              9571982\n",
       "            </td>\n",
       "            \n",
       "            <td>\n",
       "              '344591352'\n",
       "            </td>\n",
       "            \n",
       "            <td>\n",
       "              'high cov...\n",
       "            </td>\n",
       "            \n",
       "          </tr>\n",
       "          \n",
       "          <tr>\n",
       "            \n",
       "            <td>\n",
       "              'data/NA1...\n",
       "            </td>\n",
       "            \n",
       "            <td>\n",
       "              'dcd4ff7d...\n",
       "            </td>\n",
       "            \n",
       "            <td>\n",
       "              'ERR000020'\n",
       "            </td>\n",
       "            \n",
       "            <td>\n",
       "              \n",
       "            </td>\n",
       "            \n",
       "            <td>\n",
       "              149044\n",
       "            </td>\n",
       "            \n",
       "            <td>\n",
       "              '5365584'\n",
       "            </td>\n",
       "            \n",
       "            <td>\n",
       "              'high cov...\n",
       "            </td>\n",
       "            \n",
       "          </tr>\n",
       "          \n",
       "          <tr>\n",
       "            \n",
       "            <td>\n",
       "              'data/NA1...\n",
       "            </td>\n",
       "            \n",
       "            <td>\n",
       "              'fb5d7eb5...\n",
       "            </td>\n",
       "            \n",
       "            <td>\n",
       "              'ERR000020'\n",
       "            </td>\n",
       "            \n",
       "            <td>\n",
       "              \n",
       "            </td>\n",
       "            \n",
       "            <td>\n",
       "              2057690\n",
       "            </td>\n",
       "            \n",
       "            <td>\n",
       "              '74076840'\n",
       "            </td>\n",
       "            \n",
       "            <td>\n",
       "              'high cov...\n",
       "            </td>\n",
       "            \n",
       "          </tr>\n",
       "          \n",
       "          <tr>\n",
       "            \n",
       "            <td>\n",
       "              ...\n",
       "            </td>\n",
       "            \n",
       "            <td>\n",
       "              ...\n",
       "            </td>\n",
       "            \n",
       "            <td>\n",
       "              ...\n",
       "            </td>\n",
       "            \n",
       "            <td>\n",
       "              \n",
       "            </td>\n",
       "            \n",
       "            <td>\n",
       "              ...\n",
       "            </td>\n",
       "            \n",
       "            <td>\n",
       "              ...\n",
       "            </td>\n",
       "            \n",
       "            <td>\n",
       "              ...\n",
       "            </td>\n",
       "            \n",
       "          </tr>\n",
       "          \n",
       "          <tr>\n",
       "            \n",
       "            <td>\n",
       "              'data/HG0...\n",
       "            </td>\n",
       "            \n",
       "            <td>\n",
       "              '25947403...\n",
       "            </td>\n",
       "            \n",
       "            <td>\n",
       "              'SRR824935'\n",
       "            </td>\n",
       "            \n",
       "            <td>\n",
       "              \n",
       "            </td>\n",
       "            \n",
       "            <td>\n",
       "              2173448\n",
       "            </td>\n",
       "            \n",
       "            <td>\n",
       "              '165182048'\n",
       "            </td>\n",
       "            \n",
       "            <td>\n",
       "              'exome'\n",
       "            </td>\n",
       "            \n",
       "          </tr>\n",
       "          \n",
       "          <tr>\n",
       "            \n",
       "            <td>\n",
       "              'data/HG0...\n",
       "            </td>\n",
       "            \n",
       "            <td>\n",
       "              '1176aaea...\n",
       "            </td>\n",
       "            \n",
       "            <td>\n",
       "              'SRR824936'\n",
       "            </td>\n",
       "            \n",
       "            <td>\n",
       "              \n",
       "            </td>\n",
       "            \n",
       "            <td>\n",
       "              10250\n",
       "            </td>\n",
       "            \n",
       "            <td>\n",
       "              '779000'\n",
       "            </td>\n",
       "            \n",
       "            <td>\n",
       "              'exome'\n",
       "            </td>\n",
       "            \n",
       "          </tr>\n",
       "          \n",
       "          <tr>\n",
       "            \n",
       "            <td>\n",
       "              'data/HG0...\n",
       "            </td>\n",
       "            \n",
       "            <td>\n",
       "              '4ae5b931...\n",
       "            </td>\n",
       "            \n",
       "            <td>\n",
       "              'SRR824936'\n",
       "            </td>\n",
       "            \n",
       "            <td>\n",
       "              \n",
       "            </td>\n",
       "            \n",
       "            <td>\n",
       "              2403340\n",
       "            </td>\n",
       "            \n",
       "            <td>\n",
       "              '182653840'\n",
       "            </td>\n",
       "            \n",
       "            <td>\n",
       "              'exome'\n",
       "            </td>\n",
       "            \n",
       "          </tr>\n",
       "          \n",
       "          <tr>\n",
       "            \n",
       "            <td>\n",
       "              'data/HG0...\n",
       "            </td>\n",
       "            \n",
       "            <td>\n",
       "              'f87ba955...\n",
       "            </td>\n",
       "            \n",
       "            <td>\n",
       "              'SRR824936'\n",
       "            </td>\n",
       "            \n",
       "            <td>\n",
       "              \n",
       "            </td>\n",
       "            \n",
       "            <td>\n",
       "              2403340\n",
       "            </td>\n",
       "            \n",
       "            <td>\n",
       "              '182653840'\n",
       "            </td>\n",
       "            \n",
       "            <td>\n",
       "              'exome'\n",
       "            </td>\n",
       "            \n",
       "          </tr>\n",
       "          \n",
       "          </tbody>\n",
       "        </table>\n",
       "    "
      ],
      "text/plain": [
       "<rpy2.robjects.vectors.DataFrame object at 0x780b1e1a4550> [19]\n",
       "R classes: ('data.frame',)\n",
       "[StrSexpVe..., StrSexpVe..., StrSexpVe..., StrSexpVe..., ..., StrSexpVe..., IntSexpVe..., StrSexpVe..., StrSexpVe...]\n",
       "  FASTQ_FILE: <class 'rpy2.robjects.vectors.StrVector'>\n",
       "  <rpy2.robjects.vectors.StrVector object at 0x780b1e1a6850> [16]\n",
       "R classes: ('character',)\n",
       "['data/NA1..., 'data/NA1..., 'data/NA1..., 'data/NA1..., ..., 'data/HG0..., 'data/HG0..., 'data/HG0..., 'data/HG0...]\n",
       "  MD5: <class 'rpy2.robjects.vectors.StrVector'>\n",
       "  <rpy2.robjects.vectors.StrVector object at 0x780b1e1a7a10> [16]\n",
       "R classes: ('character',)\n",
       "['3b092ef1..., 'fcb89b0a..., 'dcd4ff7d..., 'fb5d7eb5..., ..., '25947403..., '1176aaea..., '4ae5b931..., 'f87ba955...]\n",
       "  RUN_ID: <class 'rpy2.robjects.vectors.StrVector'>\n",
       "  <rpy2.robjects.vectors.StrVector object at 0x780b1e1a7d50> [16]\n",
       "R classes: ('character',)\n",
       "['ERR000018', 'ERR000019', 'ERR000020', 'ERR000020', ..., 'SRR824935', 'SRR824936', 'SRR824936', 'SRR824936']\n",
       "  STUDY_ID: <class 'rpy2.robjects.vectors.StrVector'>\n",
       "  <rpy2.robjects.vectors.StrVector object at 0x780b1e1a5010> [16]\n",
       "R classes: ('character',)\n",
       "['SRP000032', 'SRP000032', 'SRP000032', 'SRP000032', ..., 'SRP016107', 'SRP016107', 'SRP016107', 'SRP016107']\n",
       "...\n",
       "  CENTER_NAME: <class 'rpy2.robjects.vectors.StrVector'>\n",
       "  <rpy2.robjects.vectors.StrVector object at 0x780b1e1a7590> [16]\n",
       "R classes: ('character',)\n",
       "['', '', '', '', ..., '', '', '', '']\n",
       "  SUBMISSION_ID: <class 'rpy2.robjects.vectors.IntVector'>\n",
       "  <rpy2.robjects.vectors.IntVector object at 0x780b1e1a4ed0> [13]\n",
       "R classes: ('integer',)\n",
       "[9280498, 9571982, 149044, 2057690, ..., 2173448, 10250, 2403340, 2403340]\n",
       "  SUBMISSION_DATE: <class 'rpy2.robjects.vectors.StrVector'>\n",
       "  <rpy2.robjects.vectors.StrVector object at 0x780b1e1a7f50> [16]\n",
       "R classes: ('character',)\n",
       "['334097928', '344591352', '5365584', '74076840', ..., '165182048', '779000', '182653840', '182653840']\n",
       "  SAMPLE_ID: <class 'rpy2.robjects.vectors.StrVector'>\n",
       "  <rpy2.robjects.vectors.StrVector object at 0x780b1e1a5050> [16]\n",
       "R classes: ('character',)\n",
       "['high cov..., 'high cov..., 'high cov..., 'high cov..., ..., 'exome', 'exome', 'exome', 'exome']"
      ]
     },
     "execution_count": 53,
     "metadata": {},
     "output_type": "execute_result"
    }
   ],
   "source": [
    "#This will create a variable in the R namespace called seq.data, with the content of the\n",
    "#DataFrame from the Python namespace. Note that after this operation, both objects will be independent\n",
    "ro.r.assign('seq.data', seq_data)"
   ]
  },
  {
   "cell_type": "code",
   "execution_count": 54,
   "id": "29dad4b6-e9b3-4436-b386-d6bb2fd6f83e",
   "metadata": {},
   "outputs": [
    {
     "name": "stderr",
     "output_type": "stream",
     "text": [
      "R[write to console]: In addition: \n",
      "R[write to console]: Warning message:\n",
      "\n",
      "R[write to console]: NAs introduced by coercion \n",
      "\n"
     ]
    },
    {
     "data": {
      "text/html": [
       "\n",
       "        <span>IntVector with 1 elements.</span>\n",
       "        <table>\n",
       "        <tbody>\n",
       "          <tr>\n",
       "          \n",
       "            <td>\n",
       "            2\n",
       "            </td>\n",
       "          \n",
       "          </tr>\n",
       "        </tbody>\n",
       "        </table>\n",
       "        "
      ],
      "text/plain": [
       "<rpy2.robjects.vectors.IntVector object at 0x780b1dd5ae10> [13]\n",
       "R classes: ('integer',)\n",
       "[2]"
      ]
     },
     "execution_count": 54,
     "metadata": {},
     "output_type": "execute_result"
    }
   ],
   "source": [
    "#This line is customizing the way Python interacts with the R function ggplot2::theme() using SignatureTranslatedFunction.\n",
    "#The argument translation (init_prm_translate) maps the Python-style argument axis_text_x to R's axis.text.x.\n",
    "ggplot2.theme = SignatureTranslatedFunction(ggplot2.theme, init_prm_translate = {'axis_text_x': 'axis.text.x'})\n",
    "#ggplot2.aes_string(x='CENTER_NAME'): Maps the variable CENTER_NAME (a column in seq_data) to the x-axis. \n",
    "bar = ggplot2.ggplot(seq_data) + ggplot2.geom_bar() + ggplot2.aes_string(x='CENTER_NAME') + ggplot2.theme(axis_text_x=ggplot2.element_text(angle=90, hjust=1))\n",
    "ro.r.png('out.png', type='cairo-png')\n",
    "ro.r.png('out.png', type='cairo-png')\n",
    "bar.plot()\n",
    "dev_off = ro.r('dev.off')\n",
    "dev_off()\n"
   ]
  },
  {
   "cell_type": "code",
   "execution_count": 55,
   "id": "e6797b7e-3e9d-422c-bb83-d7b032b2ac20",
   "metadata": {},
   "outputs": [
    {
     "data": {
      "image/png": "[encoded data removed]",
      "text/plain": [
       "<IPython.core.display.Image object>"
      ]
     },
     "execution_count": 55,
     "metadata": {},
     "output_type": "execute_result"
    }
   ],
   "source": [
    "Image(filename='out.png')"
   ]
  },
  {
   "cell_type": "code",
   "execution_count": 56,
   "id": "d4cfd8de-403c-4ecb-a2f2-d32643477f23",
   "metadata": {},
   "outputs": [],
   "source": [
    "# yri_ceu <-: This creates a new R object called yri_ceu to store the filtered data.\n",
    "# seq.data$POPULATION %in% c(\"YRI\", \"CEU\"):\n",
    "# Filters rows where the POPULATION column contains either \"YRI\" or \"CEU\".\n",
    "# %in% is used in R to match values in a column against a set of values.\n",
    "ro.r('yri_ceu <- seq.data[seq.data$POPULATION %in% c(\"YRI\", \"CEU\") & seq.data$BASE_COUNT < 2E9 & seq.data$READ_COUNT < 3E7, ]')\n",
    "#This line retrieves the R object yri_ceu and assigns it to the Python variable yri_ceu\n",
    "yri_ceu = ro.r('yri_ceu')"
   ]
  },
  {
   "cell_type": "code",
   "execution_count": 57,
   "id": "8a35a6cc-1016-44d0-844b-bd441f035fe1",
   "metadata": {},
   "outputs": [
    {
     "data": {
      "text/html": [
       "\n",
       "        <span>IntVector with 1 elements.</span>\n",
       "        <table>\n",
       "        <tbody>\n",
       "          <tr>\n",
       "          \n",
       "            <td>\n",
       "            2\n",
       "            </td>\n",
       "          \n",
       "          </tr>\n",
       "        </tbody>\n",
       "        </table>\n",
       "        "
      ],
      "text/plain": [
       "<rpy2.robjects.vectors.IntVector object at 0x780b1dd50090> [13]\n",
       "R classes: ('integer',)\n",
       "[2]"
      ]
     },
     "execution_count": 57,
     "metadata": {},
     "output_type": "execute_result"
    }
   ],
   "source": [
    "scatter = ggplot2.ggplot(yri_ceu) + ggplot2.aes_string(x='BASE_COUNT', y='READ_COUNT',shape='factor(POPULATION)', col='factor(ANALYSIS_GROUP)') + ggplot2.geom_point()\n",
    "ro.r.png('out_scatter.png')\n",
    "scatter.plot()\n",
    "ro.r('dev.off()')"
   ]
  },
  {
   "cell_type": "code",
   "execution_count": 58,
   "id": "77b0d732-b53e-438e-a762-e86fd0deaa8a",
   "metadata": {},
   "outputs": [
    {
     "data": {
      "image/png": "[encoded data removed]",
      "text/plain": [
       "<IPython.core.display.Image object>"
      ]
     },
     "execution_count": 58,
     "metadata": {},
     "output_type": "execute_result"
    }
   ],
   "source": [
    "Image(filename='out_scatter.png')"
   ]
  },
  {
   "cell_type": "code",
   "execution_count": 62,
   "id": "83364f88-6d91-46be-94ee-b784e89b0c80",
   "metadata": {},
   "outputs": [
    {
     "name": "stdout",
     "output_type": "stream",
     "text": [
      " [1] \"FASTQ_FILE\"          \"MD5\"                 \"RUN_ID\"             \n",
      " [4] \"STUDY_ID\"            \"STUDY_NAME\"          \"CENTER_NAME\"        \n",
      " [7] \"SUBMISSION_ID\"       \"SUBMISSION_DATE\"     \"SAMPLE_ID\"          \n",
      "[10] \"SAMPLE_NAME\"         \"POPULATION\"          \"EXPERIMENT_ID\"      \n",
      "[13] \"INSTRUMENT_PLATFORM\" \"INSTRUMENT_MODEL\"    \"LIBRARY_NAME\"       \n",
      "[16] \"RUN_NAME\"            \"RUN_BLOCK_NAME\"      \"INSERT_SIZE\"        \n",
      "[19] \"LIBRARY_LAYOUT\"      \"WITHDRAWN\"           \"WITHDRAWN_DATE\"     \n",
      "[22] \"COMMENT\"             \"READ_COUNT\"          \"BASE_COUNT\"         \n",
      "[25] \"ANALYSIS_GROUP\"     \n"
     ]
    }
   ],
   "source": [
    "\"\"\"\n",
    "We are converting the R DataFrame (note that we are converting yri_ceu in the R namespace, \n",
    "not the one on the Python namespace). We delete the column that indicates the name of the \n",
    "paired FASTQ file on the pandas DataFrame and copy it back to the R namespace.\n",
    "\"\"\"\n",
    "with localconverter(ro.default_converter + pandas2ri.converter):\n",
    "    pd_yri_ceu = ro.conversion.rpy2py(yri_ceu)\n",
    "del pd_yri_ceu['PAIRED_FASTQ']\n",
    "with localconverter(ro.default_converter + pandas2ri.converter):\n",
    "    no_paired = ro.conversion.py2rpy(pd_yri_ceu)\n",
    "ro.r.assign('no.paired', no_paired)\n",
    "ro.r(\"print(colnames(no.paired))\")"
   ]
  },
  {
   "cell_type": "markdown",
   "id": "2531c30d-5794-43c1-8db6-db676a4b8128",
   "metadata": {},
   "source": [
    "**This recipe is an aggressive simplification of the previous one because it illustrates the conciseness and elegance of R magics**"
   ]
  },
  {
   "cell_type": "code",
   "execution_count": 64,
   "id": "89628dc6-56dc-495b-a76b-26c349c330cc",
   "metadata": {},
   "outputs": [
    {
     "name": "stdout",
     "output_type": "stream",
     "text": [
      "The rpy2.ipython extension is already loaded. To reload it, use:\n",
      "  %reload_ext rpy2.ipython\n"
     ]
    }
   ],
   "source": [
    "import rpy2.robjects as robjects\n",
    "import rpy2.robjects.lib.ggplot2 as ggplot2\n",
    "%load_ext rpy2.ipython"
   ]
  },
  {
   "cell_type": "code",
   "execution_count": 65,
   "id": "05c60593-66d1-42e6-bc1e-544dc503f250",
   "metadata": {},
   "outputs": [
    {
     "data": {
      "text/plain": [
       "In addition: Warning messages:\n",
       "1: In (function (package, help, pos = 2, lib.loc = NULL, character.only = FALSE,  :\n",
       "  libraries ‘/usr/local/lib/R/site-library’, ‘/usr/lib/R/site-library’ contain no packages\n",
       "2: In (function (expr, envir = parent.frame(), enclos = if (is.list(envir) ||  :\n",
       "  NAs introduced by coercion\n",
       "3: In (function (expr, envir = parent.frame(), enclos = if (is.list(envir) ||  :\n",
       "  NAs introduced by coercion\n",
       "4: In (function (expr, envir = parent.frame(), enclos = if (is.list(envir) ||  :\n",
       "  NAs introduced by coercion to integer range\n"
      ]
     },
     "metadata": {},
     "output_type": "display_data"
    }
   ],
   "source": [
    "%%R\n",
    "seq.data <- read.delim('sequence.index', header=TRUE, stringsAsFactors=FALSE)\n",
    "seq.data$READ_COUNT <- as.integer(seq.data$READ_COUNT)\n",
    "seq.data$BASE_COUNT <- as.integer(seq.data$BASE_COUNT)"
   ]
  },
  {
   "cell_type": "markdown",
   "id": "437b6ca6-e5a4-4a40-9b6d-8a8183588325",
   "metadata": {},
   "source": [
    "# **Performing R magic with Jupyter**\n",
    "**Jupyter provides quite a few extra features compared to standard Python. Among those features, it provides a framework of extensible commands called magics (actually, this only works with the IPython kernel of Jupyter since it is actually an IPython feature, but that is the one we are concerned with). Magics allow you to extend the language in many useful ways. There are magic functions that you can use to deal with R. As you will see in our example, it makes R interfacing much easier and more declarative. This recipe will not introduce any new R functionalities, but hopefully, it will make it clear how IPython can be an important productivity boost for scientific computing in this regard.**"
   ]
  },
  {
   "cell_type": "markdown",
   "id": "2553f8b9-1eec-4b0c-aebc-4092804fae5e",
   "metadata": {},
   "source": [
    "**Note that % starts an IPython-specific directive. Just as a simple example, you can write %R\n",
    "print(c(1, 2)) onto a Jupyter cell.Then, you can specify that the entire cell should be interpreted as R code by using %%R (note the double %%).**"
   ]
  },
  {
   "cell_type": "code",
   "execution_count": 75,
   "id": "0728c870-3d98-4051-910a-1a87b654635c",
   "metadata": {},
   "outputs": [
    {
     "name": "stdout",
     "output_type": "stream",
     "text": [
      "[1] 1 2\n",
      "<class 'numpy.ndarray'>\n"
     ]
    }
   ],
   "source": [
    "%R print(c(1, 2))\n",
    "ex = %R c(1, 2)\n",
    "print(type(ex))"
   ]
  },
  {
   "cell_type": "code",
   "execution_count": 67,
   "id": "80c5a31f-8cde-4d0c-8ce7-bcadaa75f4ae",
   "metadata": {},
   "outputs": [
    {
     "name": "stdout",
     "output_type": "stream",
     "text": [
      "<class 'pandas.core.frame.DataFrame'>\n"
     ]
    }
   ],
   "source": [
    "seq_data = %R seq.data\n",
    "print(type(seq_data))# pandas dataframe!"
   ]
  },
  {
   "cell_type": "markdown",
   "id": "f999d746-970b-4f50-ad1c-38d93421741a",
   "metadata": {},
   "source": [
    "**We can now transfer the variable to the Python namespace. The type of the DataFrame is not a standard Python object, but a pandas DataFrame. This is a departure from previous versions of the R magic interface.**"
   ]
  },
  {
   "cell_type": "code",
   "execution_count": 70,
   "id": "1b6ea281-0ab1-4a47-a1a2-9ceafaf2243e",
   "metadata": {},
   "outputs": [],
   "source": [
    "my_col = list(seq_data.columns).index(\"CENTER_NAME\")\n",
    "seq_data['CENTER_NAME'] = seq_data['CENTER_NAME'].apply(lambda x: x.upper())"
   ]
  },
  {
   "cell_type": "markdown",
   "id": "615838ca-6844-441f-9e51-a2bd58f631e0",
   "metadata": {},
   "source": [
    "**As we have a pandas DataFrame, we can operate on it quite easily using the pandas interface**"
   ]
  },
  {
   "cell_type": "code",
   "execution_count": 71,
   "id": "9547d2f2-cd64-4516-8f90-6f1012fa4d63",
   "metadata": {},
   "outputs": [
    {
     "name": "stdout",
     "output_type": "stream",
     "text": [
      " [1] \"FASTQ_FILE\"          \"MD5\"                 \"RUN_ID\"             \n",
      " [4] \"STUDY_ID\"            \"STUDY_NAME\"          \"CENTER_NAME\"        \n",
      " [7] \"SUBMISSION_ID\"       \"SUBMISSION_DATE\"     \"SAMPLE_ID\"          \n",
      "[10] \"SAMPLE_NAME\"         \"POPULATION\"          \"EXPERIMENT_ID\"      \n",
      "[13] \"INSTRUMENT_PLATFORM\" \"INSTRUMENT_MODEL\"    \"LIBRARY_NAME\"       \n",
      "[16] \"RUN_NAME\"            \"RUN_BLOCK_NAME\"      \"INSERT_SIZE\"        \n",
      "[19] \"LIBRARY_LAYOUT\"      \"PAIRED_FASTQ\"        \"WITHDRAWN\"          \n",
      "[22] \"WITHDRAWN_DATE\"      \"COMMENT\"             \"READ_COUNT\"         \n",
      "[25] \"BASE_COUNT\"          \"ANALYSIS_GROUP\"     \n"
     ]
    },
    {
     "data": {
      "text/plain": [
       "array(['FASTQ_FILE', 'MD5', 'RUN_ID', 'STUDY_ID', 'STUDY_NAME',\n",
       "       'CENTER_NAME', 'SUBMISSION_ID', 'SUBMISSION_DATE', 'SAMPLE_ID',\n",
       "       'SAMPLE_NAME', 'POPULATION', 'EXPERIMENT_ID',\n",
       "       'INSTRUMENT_PLATFORM', 'INSTRUMENT_MODEL', 'LIBRARY_NAME',\n",
       "       'RUN_NAME', 'RUN_BLOCK_NAME', 'INSERT_SIZE', 'LIBRARY_LAYOUT',\n",
       "       'PAIRED_FASTQ', 'WITHDRAWN', 'WITHDRAWN_DATE', 'COMMENT',\n",
       "       'READ_COUNT', 'BASE_COUNT', 'ANALYSIS_GROUP'], dtype='<U19')"
      ]
     },
     "execution_count": 71,
     "metadata": {},
     "output_type": "execute_result"
    }
   ],
   "source": [
    "%R -i seq_data\n",
    "%R print(colnames(seq_data))"
   ]
  },
  {
   "cell_type": "markdown",
   "id": "b98dfb7f-70aa-4d48-9bef-933552346abc",
   "metadata": {},
   "source": [
    "**Let’s put this DataFrame back into the R namespace, as above. The -i argument informs the magic system that the variable that follows on the Python space is to be copied into the R namespace. The second line just shows that the DataFrame is indeed available in R. The name that we are using is different from the original – it’s seq_data, instead of seq.data.**"
   ]
  },
  {
   "cell_type": "code",
   "execution_count": 77,
   "id": "9915df40-60cb-43d1-89a1-114835e22233",
   "metadata": {},
   "outputs": [
    {
     "data": {
      "image/png": "[encoded data removed]",
      "text/plain": [
       "<IPython.core.display.Image object>"
      ]
     },
     "metadata": {},
     "output_type": "display_data"
    }
   ],
   "source": [
    "%%R\n",
    "bar <- ggplot(seq_data) + aes(factor(CENTER_NAME)) + geom_bar() + theme(axis.text.x = element_text(angle = 90, hjust = 1))\n",
    "print(bar)"
   ]
  },
  {
   "cell_type": "code",
   "execution_count": null,
   "id": "21940eab-0fe0-4192-989f-e3e3fc37e4f4",
   "metadata": {},
   "outputs": [],
   "source": []
  }
 ],
 "metadata": {
  "kernelspec": {
   "display_name": "Python 3 (ipykernel)",
   "language": "python",
   "name": "python3"
  },
  "language_info": {
   "codemirror_mode": {
    "name": "ipython",
    "version": 3
   },
   "file_extension": ".py",
   "mimetype": "text/x-python",
   "name": "python",
   "nbconvert_exporter": "python",
   "pygments_lexer": "ipython3",
   "version": "3.12.3"
  }
 },
 "nbformat": 4,
 "nbformat_minor": 5
}
